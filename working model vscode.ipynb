{
 "cells": [
  {
   "cell_type": "markdown",
   "id": "c421dff3",
   "metadata": {
    "id": "kDvbxkVEgaMu",
    "papermill": {
     "duration": 0.018379,
     "end_time": "2022-09-14T13:02:11.828974",
     "exception": false,
     "start_time": "2022-09-14T13:02:11.810595",
     "status": "completed"
    },
    "tags": []
   },
   "source": [
    "# Imports & Configs"
   ]
  },
  {
   "cell_type": "code",
   "execution_count": null,
   "id": "1d5486b9",
   "metadata": {
    "id": "2WQZRHRthEJG",
    "outputId": "122cd0c1-ea93-49dd-d641-33244ded3875",
    "papermill": {
     "duration": 13.442132,
     "end_time": "2022-09-14T13:02:25.292567",
     "exception": false,
     "start_time": "2022-09-14T13:02:11.850435",
     "status": "completed"
    },
    "tags": []
   },
   "outputs": [],
   "source": [
    "#uncomment the next line to download all the modules used in this project\n",
    "#it only needs to run once per system used\n",
    "#%pip install numpy pandas seaborn matplotlib optuna scikit-learn xgboost catboost lightgbm sklearn_relief"
   ]
  },
  {
   "cell_type": "code",
   "execution_count": null,
   "id": "3700959e",
   "metadata": {
    "id": "-N8BDL8XgaMv",
    "papermill": {
     "duration": 4.069568,
     "end_time": "2022-09-14T13:02:29.379435",
     "exception": false,
     "start_time": "2022-09-14T13:02:25.309867",
     "status": "completed"
    },
    "tags": []
   },
   "outputs": [],
   "source": [
    "import numpy as np\n",
    "import pandas as pd\n",
    "import seaborn as sns\n",
    "import matplotlib.pyplot as plt\n",
    "from pandas.api.types import is_numeric_dtype\n",
    "import warnings\n",
    "import optuna\n",
    "import sklearn_relief as sr\n",
    "from sklearn import tree\n",
    "from sklearn.model_selection import train_test_split\n",
    "from sklearn.neighbors import KNeighborsClassifier\n",
    "from sklearn.linear_model import LogisticRegression\n",
    "from sklearn.preprocessing import StandardScaler, LabelEncoder\n",
    "from sklearn.tree  import DecisionTreeClassifier\n",
    "from sklearn.ensemble import RandomForestClassifier, BaggingClassifier, AdaBoostClassifier, VotingClassifier, GradientBoostingClassifier\n",
    "from sklearn.svm import SVC, LinearSVC\n",
    "from sklearn.datasets import make_classification\n",
    "from sklearn.naive_bayes import BernoulliNB\n",
    "from lightgbm import LGBMClassifier\n",
    "from sklearn.feature_selection import RFE\n",
    "import itertools\n",
    "from catboost import CatBoostClassifier\n",
    "from xgboost import XGBClassifier\n",
    "from tabulate import tabulate\n",
    "import os\n",
    "warnings.filterwarnings('ignore')\n",
    "optuna.logging.set_verbosity(optuna.logging.WARNING)\n",
    "\n"
   ]
  },
  {
   "cell_type": "markdown",
   "id": "634c8c7e",
   "metadata": {
    "id": "aKV9idK-gaMw",
    "papermill": {
     "duration": 0.014781,
     "end_time": "2022-09-14T13:02:29.409510",
     "exception": false,
     "start_time": "2022-09-14T13:02:29.394729",
     "status": "completed"
    },
    "tags": []
   },
   "source": [
    "# Data Preprocessing & EDA"
   ]
  },
  {
   "cell_type": "code",
   "execution_count": null,
   "id": "e21d02ad",
   "metadata": {
    "id": "u9yLtJZOgaMw",
    "outputId": "84ded1cb-b71a-410d-8334-bf68f389e80e",
    "papermill": {
     "duration": 0.343932,
     "end_time": "2022-09-14T13:02:29.768857",
     "exception": false,
     "start_time": "2022-09-14T13:02:29.424925",
     "status": "completed"
    },
    "tags": []
   },
   "outputs": [],
   "source": [
    "for dirname, _, filenames in os.walk('.\\kaggle\\input'):\n",
    "    for filename in filenames:\n",
    "        print(os.path.join(dirname, filename))\n",
    "        if 'Train' in filename:\n",
    "            train=pd.read_csv(os.path.join(dirname, filename))\n",
    "        if 'Test' in filename:\n",
    "            test=pd.read_csv(os.path.join(dirname, filename))\n",
    "train"
   ]
  },
  {
   "cell_type": "code",
   "execution_count": null,
   "id": "d6ddd9b8",
   "metadata": {
    "id": "1AX6f2nngaMx",
    "outputId": "ee4f4846-634a-40f0-96a3-e8ba20255334",
    "papermill": {
     "duration": 0.057168,
     "end_time": "2022-09-14T13:02:29.841741",
     "exception": false,
     "start_time": "2022-09-14T13:02:29.784573",
     "status": "completed"
    },
    "tags": []
   },
   "outputs": [],
   "source": [
    "train.info()"
   ]
  },
  {
   "cell_type": "code",
   "execution_count": null,
   "id": "ca80db50",
   "metadata": {
    "id": "ena_Ri7LgaMx",
    "outputId": "779e804e-9616-4daa-c619-2f9cf5d294b2",
    "papermill": {
     "duration": 0.048428,
     "end_time": "2022-09-14T13:02:29.906961",
     "exception": false,
     "start_time": "2022-09-14T13:02:29.858533",
     "status": "completed"
    },
    "tags": []
   },
   "outputs": [],
   "source": [
    "train.head()"
   ]
  },
  {
   "cell_type": "code",
   "execution_count": null,
   "id": "2ce1718d",
   "metadata": {
    "id": "V_5IRjy6gaMx",
    "outputId": "30026466-1dd0-458f-db6d-106b5db22b0b",
    "papermill": {
     "duration": 0.165858,
     "end_time": "2022-09-14T13:02:30.089174",
     "exception": false,
     "start_time": "2022-09-14T13:02:29.923316",
     "status": "completed"
    },
    "tags": []
   },
   "outputs": [],
   "source": [
    "train.describe()"
   ]
  },
  {
   "cell_type": "code",
   "execution_count": null,
   "id": "df5b3879",
   "metadata": {
    "id": "05-c8t1ZgaMx",
    "outputId": "e31e2c95-4b15-4173-8d44-6a72e7a87991",
    "papermill": {
     "duration": 0.053344,
     "end_time": "2022-09-14T13:02:30.158887",
     "exception": false,
     "start_time": "2022-09-14T13:02:30.105543",
     "status": "completed"
    },
    "tags": []
   },
   "outputs": [],
   "source": [
    "train.describe(include='object')"
   ]
  },
  {
   "cell_type": "markdown",
   "id": "63c3b854",
   "metadata": {
    "id": "ua_xXMFNgaMy",
    "papermill": {
     "duration": 0.015938,
     "end_time": "2022-09-14T13:02:30.191217",
     "exception": false,
     "start_time": "2022-09-14T13:02:30.175279",
     "status": "completed"
    },
    "tags": []
   },
   "source": [
    "## Missing Data"
   ]
  },
  {
   "cell_type": "code",
   "execution_count": null,
   "id": "bfb8f514",
   "metadata": {
    "id": "DiH8ErLIgaMy",
    "outputId": "176140c8-e224-4813-9192-0af7e8c85f8e",
    "papermill": {
     "duration": 0.04036,
     "end_time": "2022-09-14T13:02:30.248734",
     "exception": false,
     "start_time": "2022-09-14T13:02:30.208374",
     "status": "completed"
    },
    "tags": []
   },
   "outputs": [],
   "source": [
    "total = train.shape[0]\n",
    "missing_columns = [col for col in train.columns if train[col].isnull().sum() > 0]\n",
    "for col in missing_columns:\n",
    "    null_count = train[col].isnull().sum()\n",
    "    per = (null_count/total) * 100\n",
    "    print(f\"{col}: {null_count} ({round(per, 3)}%)\")"
   ]
  },
  {
   "cell_type": "markdown",
   "id": "86c286c8",
   "metadata": {
    "id": "jOq9F5K6gaMy",
    "papermill": {
     "duration": 0.015985,
     "end_time": "2022-09-14T13:02:30.280938",
     "exception": false,
     "start_time": "2022-09-14T13:02:30.264953",
     "status": "completed"
    },
    "tags": []
   },
   "source": [
    "No missing values"
   ]
  },
  {
   "cell_type": "markdown",
   "id": "d8d6c707",
   "metadata": {
    "id": "euHyjfVMgaMz",
    "papermill": {
     "duration": 0.016208,
     "end_time": "2022-09-14T13:02:30.313515",
     "exception": false,
     "start_time": "2022-09-14T13:02:30.297307",
     "status": "completed"
    },
    "tags": []
   },
   "source": [
    "## Duplicates "
   ]
  },
  {
   "cell_type": "code",
   "execution_count": null,
   "id": "d2e30645",
   "metadata": {
    "id": "KJFa6rSegaMz",
    "outputId": "51822641-c679-440b-c137-8cc11d007c37",
    "papermill": {
     "duration": 0.058791,
     "end_time": "2022-09-14T13:02:30.388534",
     "exception": false,
     "start_time": "2022-09-14T13:02:30.329743",
     "status": "completed"
    },
    "tags": []
   },
   "outputs": [],
   "source": [
    "if train.duplicated().sum():\n",
    "    print(f\"Number of duplicate rows: {train.duplicated().sum()}\")\n",
    "else:\n",
    "    print(f\"There are no duplicates within the dataset\")"
   ]
  },
  {
   "cell_type": "markdown",
   "id": "7f463409",
   "metadata": {
    "id": "fV6E3GTfgaMz",
    "papermill": {
     "duration": 0.01608,
     "end_time": "2022-09-14T13:02:30.453239",
     "exception": false,
     "start_time": "2022-09-14T13:02:30.437159",
     "status": "completed"
    },
    "tags": []
   },
   "source": [
    "## Outliers "
   ]
  },
  {
   "cell_type": "code",
   "execution_count": null,
   "id": "d7d9ff3f",
   "metadata": {
    "id": "BVuDJ06zgaM0",
    "outputId": "88f9ed4c-ed56-4287-d4c3-782dcf130623",
    "papermill": {
     "duration": 0.024801,
     "end_time": "2022-09-14T13:02:30.494253",
     "exception": false,
     "start_time": "2022-09-14T13:02:30.469452",
     "status": "completed"
    },
    "tags": []
   },
   "outputs": [],
   "source": [
    "# for col in df:\n",
    "#     if col != 'class' and is_numeric_dtype(df[col]):\n",
    "#         fig, ax = plt.subplots(2, 1, figsize=(12, 8))\n",
    "#         g1 = sns.boxplot(x = df[col], ax=ax[0])\n",
    "#         g2 = sns.scatterplot(data=df, x=df[col],y=df['class'], ax=ax[1])\n",
    "#         plt.show()"
   ]
  },
  {
   "cell_type": "markdown",
   "id": "5f04c1f0",
   "metadata": {
    "papermill": {
     "duration": 0.016,
     "end_time": "2022-09-14T13:02:30.527013",
     "exception": false,
     "start_time": "2022-09-14T13:02:30.511013",
     "status": "completed"
    },
    "tags": []
   },
   "source": [
    "No outliers"
   ]
  },
  {
   "cell_type": "code",
   "execution_count": null,
   "id": "601168fe",
   "metadata": {
    "id": "p9PeuildgaM1",
    "outputId": "802ab648-9e65-41b7-8950-0c6c15b8aa75",
    "papermill": {
     "duration": 7.480158,
     "end_time": "2022-09-14T13:02:38.023281",
     "exception": false,
     "start_time": "2022-09-14T13:02:30.543123",
     "status": "completed"
    },
    "tags": []
   },
   "outputs": [],
   "source": [
    "plt.figure(figsize=(40,30))\n",
    "sns.heatmap(train.corr(numeric_only=True), annot=True)\n",
    "\n",
    "# import plotly.express as px\n",
    "# fig = px.imshow(df.corr(), text_auto=True, aspect=\"auto\")\n",
    "# fig.show()"
   ]
  },
  {
   "cell_type": "code",
   "execution_count": null,
   "id": "1b16bda4",
   "metadata": {
    "papermill": {
     "duration": 0.247153,
     "end_time": "2022-09-14T13:02:38.295861",
     "exception": false,
     "start_time": "2022-09-14T13:02:38.048708",
     "status": "completed"
    },
    "tags": []
   },
   "outputs": [],
   "source": [
    "sns.countplot(x=train['class'])"
   ]
  },
  {
   "cell_type": "markdown",
   "id": "45b22817",
   "metadata": {
    "id": "N7GLuqWSgaM2",
    "papermill": {
     "duration": 0.02639,
     "end_time": "2022-09-14T13:02:38.349153",
     "exception": false,
     "start_time": "2022-09-14T13:02:38.322763",
     "status": "completed"
    },
    "tags": []
   },
   "source": [
    "# Label Encoding"
   ]
  },
  {
   "cell_type": "code",
   "execution_count": null,
   "id": "25f174bf",
   "metadata": {
    "id": "UeGCZJArgaM2",
    "papermill": {
     "duration": 0.087092,
     "end_time": "2022-09-14T13:02:38.462617",
     "exception": false,
     "start_time": "2022-09-14T13:02:38.375525",
     "status": "completed"
    },
    "tags": []
   },
   "outputs": [],
   "source": [
    "def le(df):\n",
    "    for col in df.columns:\n",
    "        if df[col].dtype == 'object':\n",
    "                label_encoder = LabelEncoder()\n",
    "                df[col] = label_encoder.fit_transform(df[col])\n",
    "\n",
    "le(train)\n",
    "le(test)"
   ]
  },
  {
   "cell_type": "code",
   "execution_count": null,
   "id": "fa7aafdb",
   "metadata": {
    "id": "dxC3YNaEgaM2",
    "outputId": "fe83e7de-8394-43e0-dc32-11318e924300",
    "papermill": {
     "duration": 0.068088,
     "end_time": "2022-09-14T13:02:38.558158",
     "exception": false,
     "start_time": "2022-09-14T13:02:38.490070",
     "status": "completed"
    },
    "tags": []
   },
   "outputs": [],
   "source": [
    "train.drop(['num_outbound_cmds'], axis=1, inplace=True)\n",
    "test.drop(['num_outbound_cmds'], axis=1, inplace=True)\n",
    "train.head()"
   ]
  },
  {
   "cell_type": "markdown",
   "id": "613db672",
   "metadata": {
    "papermill": {
     "duration": 0.026211,
     "end_time": "2022-09-14T13:02:38.610812",
     "exception": false,
     "start_time": "2022-09-14T13:02:38.584601",
     "status": "completed"
    },
    "tags": []
   },
   "source": [
    "# Feature selection"
   ]
  },
  {
   "cell_type": "code",
   "execution_count": null,
   "id": "2b5bbc38",
   "metadata": {
    "id": "HuoO4AUkgaM2",
    "papermill": {
     "duration": 0.040708,
     "end_time": "2022-09-14T13:02:38.678634",
     "exception": false,
     "start_time": "2022-09-14T13:02:38.637926",
     "status": "completed"
    },
    "tags": []
   },
   "outputs": [],
   "source": [
    "X_train = train.drop(['class'], axis=1)\n",
    "Y_train = train['class']"
   ]
  },
  {
   "cell_type": "code",
   "execution_count": null,
   "id": "e1647307",
   "metadata": {
    "papermill": {
     "duration": 64.799059,
     "end_time": "2022-09-14T13:03:43.504275",
     "exception": false,
     "start_time": "2022-09-14T13:02:38.705216",
     "status": "completed"
    },
    "tags": []
   },
   "outputs": [],
   "source": [
    "rfc = RandomForestClassifier()\n",
    "\n",
    "rfe = RFE(rfc, n_features_to_select=10)\n",
    "rfe = rfe.fit(X_train, Y_train)\n",
    "\n",
    "feature_map = [(i, v) for i, v in itertools.zip_longest(rfe.get_support(), X_train.columns)]\n",
    "selected_features = [v for i, v in feature_map if i==True]\n",
    "\n",
    "selected_features"
   ]
  },
  {
   "cell_type": "code",
   "execution_count": null,
   "id": "be703ed2",
   "metadata": {
    "papermill": {
     "duration": 0.037788,
     "end_time": "2022-09-14T13:03:43.569295",
     "exception": false,
     "start_time": "2022-09-14T13:03:43.531507",
     "status": "completed"
    },
    "tags": []
   },
   "outputs": [],
   "source": [
    "X_train = X_train[selected_features]"
   ]
  },
  {
   "cell_type": "markdown",
   "id": "05e1eab0",
   "metadata": {
    "id": "HedcMiYygaM2",
    "papermill": {
     "duration": 0.026395,
     "end_time": "2022-09-14T13:03:43.622529",
     "exception": false,
     "start_time": "2022-09-14T13:03:43.596134",
     "status": "completed"
    },
    "tags": []
   },
   "source": [
    "# Split and scale data"
   ]
  },
  {
   "cell_type": "code",
   "execution_count": null,
   "id": "469e6dde",
   "metadata": {
    "id": "r6DnBlUogaM3",
    "papermill": {
     "duration": 0.063657,
     "end_time": "2022-09-14T13:03:43.713401",
     "exception": false,
     "start_time": "2022-09-14T13:03:43.649744",
     "status": "completed"
    },
    "tags": []
   },
   "outputs": [],
   "source": [
    "scale = StandardScaler()\n",
    "X_train = scale.fit_transform(X_train)\n",
    "test = scale.fit_transform(test)"
   ]
  },
  {
   "cell_type": "code",
   "execution_count": null,
   "id": "fcd60729",
   "metadata": {
    "papermill": {
     "duration": 0.041322,
     "end_time": "2022-09-14T13:03:43.781432",
     "exception": false,
     "start_time": "2022-09-14T13:03:43.740110",
     "status": "completed"
    },
    "tags": []
   },
   "outputs": [],
   "source": [
    "x_train, x_test, y_train, y_test = train_test_split(X_train, Y_train, train_size=0.70, random_state=2)"
   ]
  },
  {
   "cell_type": "markdown",
   "id": "b8416d1d",
   "metadata": {
    "id": "ky9U56wagaM3",
    "papermill": {
     "duration": 0.026424,
     "end_time": "2022-09-14T13:03:43.835111",
     "exception": false,
     "start_time": "2022-09-14T13:03:43.808687",
     "status": "completed"
    },
    "tags": []
   },
   "source": [
    "# K Nearest Neighbors (KNN) classification model"
   ]
  },
  {
   "cell_type": "code",
   "execution_count": null,
   "id": "50924650",
   "metadata": {
    "id": "h-AVjDgqgaM3",
    "papermill": {
     "duration": 0.03757,
     "end_time": "2022-09-14T13:03:43.899741",
     "exception": false,
     "start_time": "2022-09-14T13:03:43.862171",
     "status": "completed"
    },
    "tags": []
   },
   "outputs": [],
   "source": [
    "def objective(trial):\n",
    "    n_neighbors = trial.suggest_int('KNN_n_neighbors', 2, 16, log=False)\n",
    "    classifier_obj = KNeighborsClassifier(n_neighbors=n_neighbors)\n",
    "    classifier_obj.fit(x_train, y_train)\n",
    "    accuracy = classifier_obj.score(x_test, y_test)\n",
    "    return accuracy"
   ]
  },
  {
   "cell_type": "code",
   "execution_count": null,
   "id": "9b79caba",
   "metadata": {
    "id": "6aYzhDhPgaM3",
    "papermill": {
     "duration": 0.798344,
     "end_time": "2022-09-14T13:03:44.725742",
     "exception": false,
     "start_time": "2022-09-14T13:03:43.927398",
     "status": "completed"
    },
    "tags": []
   },
   "outputs": [],
   "source": [
    "study_KNN = optuna.create_study(direction='maximize')\n",
    "study_KNN.optimize(objective, n_trials=1)\n",
    "print(study_KNN.best_trial)"
   ]
  },
  {
   "cell_type": "code",
   "execution_count": null,
   "id": "5b25c3d5",
   "metadata": {
    "id": "urIn1Y_4gaM4",
    "papermill": {
     "duration": 2.591389,
     "end_time": "2022-09-14T13:03:47.344595",
     "exception": false,
     "start_time": "2022-09-14T13:03:44.753206",
     "status": "completed"
    },
    "tags": []
   },
   "outputs": [],
   "source": [
    "KNN_model = KNeighborsClassifier(n_neighbors=study_KNN.best_trial.params['KNN_n_neighbors'])\n",
    "KNN_model.fit(x_train, y_train)\n",
    "\n",
    "KNN_train, KNN_test = KNN_model.score(x_train, y_train), KNN_model.score(x_test, y_test)\n",
    "\n",
    "print(f\"Train Score: {KNN_train}\")\n",
    "print(f\"Test Score: {KNN_test}\")"
   ]
  },
  {
   "cell_type": "markdown",
   "id": "2b156881",
   "metadata": {
    "id": "k9wzDDHLgaM4",
    "papermill": {
     "duration": 0.0273,
     "end_time": "2022-09-14T13:03:47.399166",
     "exception": false,
     "start_time": "2022-09-14T13:03:47.371866",
     "status": "completed"
    },
    "tags": []
   },
   "source": [
    "# Logistic Regression Model"
   ]
  },
  {
   "cell_type": "code",
   "execution_count": null,
   "id": "e8fadebb",
   "metadata": {
    "id": "u0HCdzolgaM4",
    "papermill": {
     "duration": 0.115388,
     "end_time": "2022-09-14T13:03:47.541514",
     "exception": false,
     "start_time": "2022-09-14T13:03:47.426126",
     "status": "completed"
    },
    "tags": []
   },
   "outputs": [],
   "source": [
    "lg_model = LogisticRegression(random_state = 42)\n",
    "lg_model.fit(x_train, y_train)"
   ]
  },
  {
   "cell_type": "code",
   "execution_count": null,
   "id": "17ff1e3d",
   "metadata": {
    "id": "r0g-d30VgaM4",
    "papermill": {
     "duration": 0.07929,
     "end_time": "2022-09-14T13:03:47.687025",
     "exception": false,
     "start_time": "2022-09-14T13:03:47.607735",
     "status": "completed"
    },
    "tags": []
   },
   "outputs": [],
   "source": [
    "lg_train, lg_test = lg_model.score(x_train , y_train), lg_model.score(x_test , y_test)\n",
    "\n",
    "print(f\"Training Score: {lg_train}\")\n",
    "print(f\"Test Score: {lg_test}\")"
   ]
  },
  {
   "cell_type": "markdown",
   "id": "7ac76ea3",
   "metadata": {
    "id": "P7WBXL8ggaM4",
    "papermill": {
     "duration": 0.051863,
     "end_time": "2022-09-14T13:03:47.806248",
     "exception": false,
     "start_time": "2022-09-14T13:03:47.754385",
     "status": "completed"
    },
    "tags": []
   },
   "source": [
    "# Decision Tree Classifier"
   ]
  },
  {
   "cell_type": "code",
   "execution_count": null,
   "id": "b1863f16",
   "metadata": {
    "id": "_b1oaLiigaM4",
    "papermill": {
     "duration": 0.037663,
     "end_time": "2022-09-14T13:03:47.872742",
     "exception": false,
     "start_time": "2022-09-14T13:03:47.835079",
     "status": "completed"
    },
    "tags": []
   },
   "outputs": [],
   "source": [
    "def objective(trial):\n",
    "    dt_max_depth = trial.suggest_int('dt_max_depth', 2, 32, log=False)\n",
    "    dt_max_features = trial.suggest_int('dt_max_features', 2, 10, log=False)\n",
    "    classifier_obj = DecisionTreeClassifier(max_features = dt_max_features, max_depth = dt_max_depth)\n",
    "    classifier_obj.fit(x_train, y_train)\n",
    "    accuracy = classifier_obj.score(x_test, y_test)\n",
    "    return accuracy"
   ]
  },
  {
   "cell_type": "code",
   "execution_count": null,
   "id": "1f5bab08",
   "metadata": {
    "id": "0MSIFjHegaM5",
    "outputId": "82a0af29-fe2b-4ad5-b042-e6c526b3835f",
    "papermill": {
     "duration": 1.330164,
     "end_time": "2022-09-14T13:03:49.231485",
     "exception": false,
     "start_time": "2022-09-14T13:03:47.901321",
     "status": "completed"
    },
    "tags": []
   },
   "outputs": [],
   "source": [
    "study_dt = optuna.create_study(direction='maximize')\n",
    "study_dt.optimize(objective, n_trials=30)\n",
    "print(study_dt.best_trial)"
   ]
  },
  {
   "cell_type": "code",
   "execution_count": null,
   "id": "2ee78f9d",
   "metadata": {
    "id": "WwYFY0-pgaM5",
    "outputId": "2ab01dee-7930-495d-e247-049e6e1c5c98",
    "papermill": {
     "duration": 0.077797,
     "end_time": "2022-09-14T13:03:49.337177",
     "exception": false,
     "start_time": "2022-09-14T13:03:49.259380",
     "status": "completed"
    },
    "tags": []
   },
   "outputs": [],
   "source": [
    "dt = DecisionTreeClassifier(max_features = study_dt.best_trial.params['dt_max_features'], max_depth = study_dt.best_trial.params['dt_max_depth'])\n",
    "dt.fit(x_train, y_train)\n",
    "\n",
    "dt_train, dt_test = dt.score(x_train, y_train), dt.score(x_test, y_test)\n",
    "\n",
    "print(f\"Train Score: {dt_train}\")\n",
    "print(f\"Test Score: {dt_test}\")"
   ]
  },
  {
   "cell_type": "code",
   "execution_count": null,
   "id": "44012117",
   "metadata": {
    "id": "J2MbnU_EgaM5",
    "outputId": "e2be03ae-afef-47ce-cfda-16ea06242af9",
    "papermill": {
     "duration": 13.305877,
     "end_time": "2022-09-14T13:04:02.670929",
     "exception": false,
     "start_time": "2022-09-14T13:03:49.365052",
     "status": "completed"
    },
    "tags": []
   },
   "outputs": [],
   "source": [
    "fig = plt.figure(figsize = (30,12))\n",
    "tree.plot_tree(dt, filled=True);\n",
    "plt.show()"
   ]
  },
  {
   "cell_type": "code",
   "execution_count": null,
   "id": "3ff4846d",
   "metadata": {
    "id": "NRMQi6sagaM5",
    "papermill": {
     "duration": 0.266567,
     "end_time": "2022-09-14T13:04:02.970668",
     "exception": false,
     "start_time": "2022-09-14T13:04:02.704101",
     "status": "completed"
    },
    "tags": []
   },
   "outputs": [],
   "source": [
    "from matplotlib import pyplot as plt\n",
    "\n",
    "def f_importance(coef, names, top=-1):\n",
    "    imp = coef\n",
    "    imp, names = zip(*sorted(list(zip(imp, names))))\n",
    "\n",
    "    # Show all features\n",
    "    if top == -1:\n",
    "        top = len(names)\n",
    "\n",
    "    plt.barh(range(top), imp[::-1][0:top], align='center')\n",
    "    plt.yticks(range(top), names[::-1][0:top])\n",
    "    plt.title('feature importance for dt')\n",
    "    plt.show()\n",
    "\n",
    "# whatever your features are called\n",
    "features_names = selected_features\n",
    "\n",
    "# Specify your top n features you want to visualize.\n",
    "# You can also discard the abs() function \n",
    "# if you are interested in negative contribution of features\n",
    "f_importance(abs(dt.feature_importances_), features_names, top=7)"
   ]
  },
  {
   "cell_type": "markdown",
   "id": "c41b124b",
   "metadata": {
    "id": "LQuE5mKtgaM5",
    "papermill": {
     "duration": 0.035489,
     "end_time": "2022-09-14T13:04:03.040921",
     "exception": false,
     "start_time": "2022-09-14T13:04:03.005432",
     "status": "completed"
    },
    "tags": []
   },
   "source": [
    "# Random Forest Classifier"
   ]
  },
  {
   "cell_type": "code",
   "execution_count": null,
   "id": "86966603",
   "metadata": {
    "id": "BMtGNGQEgaM5",
    "papermill": {
     "duration": 0.043278,
     "end_time": "2022-09-14T13:04:03.117574",
     "exception": false,
     "start_time": "2022-09-14T13:04:03.074296",
     "status": "completed"
    },
    "tags": []
   },
   "outputs": [],
   "source": [
    "def objective(trial):\n",
    "    rf_max_depth = trial.suggest_int('rf_max_depth', 2, 32, log=False)\n",
    "    rf_max_features = trial.suggest_int('rf_max_features', 2, 10, log=False)\n",
    "    rf_n_estimators = trial.suggest_int('rf_n_estimators', 3, 20, log=False)\n",
    "    classifier_obj = RandomForestClassifier(max_features = rf_max_features, max_depth = rf_max_depth, n_estimators = rf_n_estimators)\n",
    "    classifier_obj.fit(x_train, y_train)\n",
    "    accuracy = classifier_obj.score(x_test, y_test)\n",
    "    return accuracy"
   ]
  },
  {
   "cell_type": "code",
   "execution_count": null,
   "id": "b2fd19fe",
   "metadata": {
    "id": "HMs_LgD4gaM5",
    "papermill": {
     "duration": 7.442284,
     "end_time": "2022-09-14T13:04:10.590652",
     "exception": false,
     "start_time": "2022-09-14T13:04:03.148368",
     "status": "completed"
    },
    "tags": []
   },
   "outputs": [],
   "source": [
    "study_rf = optuna.create_study(direction='maximize')\n",
    "study_rf.optimize(objective, n_trials=30)\n",
    "print(study_rf.best_trial)"
   ]
  },
  {
   "cell_type": "code",
   "execution_count": null,
   "id": "6246279c",
   "metadata": {
    "id": "zgBGWPvegaM6",
    "papermill": {
     "duration": 0.343602,
     "end_time": "2022-09-14T13:04:10.966561",
     "exception": false,
     "start_time": "2022-09-14T13:04:10.622959",
     "status": "completed"
    },
    "tags": []
   },
   "outputs": [],
   "source": [
    "rf = RandomForestClassifier(max_features = study_rf.best_trial.params['rf_max_features'], max_depth = study_rf.best_trial.params['rf_max_depth'], n_estimators = study_rf.best_trial.params['rf_n_estimators'])\n",
    "rf.fit(x_train, y_train)\n",
    "\n",
    "rf_train, rf_test = rf.score(x_train, y_train), rf.score(x_test, y_test)\n",
    "\n",
    "print(f\"Train Score: {rf_train}\")\n",
    "print(f\"Test Score: {rf_test}\")"
   ]
  },
  {
   "cell_type": "code",
   "execution_count": null,
   "id": "dc59cb97",
   "metadata": {
    "id": "T5gccetigaM6",
    "papermill": {
     "duration": 0.192321,
     "end_time": "2022-09-14T13:04:11.190609",
     "exception": false,
     "start_time": "2022-09-14T13:04:10.998288",
     "status": "completed"
    },
    "tags": []
   },
   "outputs": [],
   "source": [
    "from matplotlib import pyplot as plt\n",
    "\n",
    "def f_importance(coef, names, top=-1):\n",
    "    imp = coef\n",
    "    imp, names = zip(*sorted(list(zip(imp, names))))\n",
    "\n",
    "    # Show all features\n",
    "    if top == -1:\n",
    "        top = len(names)\n",
    "\n",
    "    plt.barh(range(top), imp[::-1][0:top], align='center')\n",
    "    plt.yticks(range(top), names[::-1][0:top])\n",
    "    plt.title('feature importance for dt')\n",
    "    plt.show()\n",
    "\n",
    "# whatever your features are called\n",
    "features_names = selected_features\n",
    "\n",
    "# Specify your top n features you want to visualize.\n",
    "# You can also discard the abs() function \n",
    "# if you are interested in negative contribution of features\n",
    "f_importance(abs(rf.feature_importances_), features_names, top=7)"
   ]
  },
  {
   "cell_type": "markdown",
   "id": "38cca2f1",
   "metadata": {
    "id": "9M4b9NZ4gaM6",
    "papermill": {
     "duration": 0.030876,
     "end_time": "2022-09-14T13:04:11.252146",
     "exception": false,
     "start_time": "2022-09-14T13:04:11.221270",
     "status": "completed"
    },
    "tags": []
   },
   "source": [
    "# SKLearn Gradient Boosting Model"
   ]
  },
  {
   "cell_type": "code",
   "execution_count": null,
   "id": "9cfde7e4",
   "metadata": {
    "id": "o2rY6stOgaM6",
    "papermill": {
     "duration": 1.93166,
     "end_time": "2022-09-14T13:04:13.214823",
     "exception": false,
     "start_time": "2022-09-14T13:04:11.283163",
     "status": "completed"
    },
    "tags": []
   },
   "outputs": [],
   "source": [
    "SKGB = GradientBoostingClassifier(random_state=42)\n",
    "SKGB.fit(x_train, y_train)"
   ]
  },
  {
   "cell_type": "code",
   "execution_count": null,
   "id": "7b1a6b5f",
   "metadata": {
    "id": "jTNBvG7XgaM6",
    "papermill": {
     "duration": 0.091692,
     "end_time": "2022-09-14T13:04:13.338350",
     "exception": false,
     "start_time": "2022-09-14T13:04:13.246658",
     "status": "completed"
    },
    "tags": []
   },
   "outputs": [],
   "source": [
    "SKGB_train, SKGB_test = SKGB.score(x_train , y_train), SKGB.score(x_test , y_test)\n",
    "\n",
    "print(f\"Training Score: {SKGB_train}\")\n",
    "print(f\"Test Score: {SKGB_test}\")"
   ]
  },
  {
   "cell_type": "markdown",
   "id": "c5294f10",
   "metadata": {
    "id": "oGi7cqwVgaM6",
    "papermill": {
     "duration": 0.031031,
     "end_time": "2022-09-14T13:04:13.401647",
     "exception": false,
     "start_time": "2022-09-14T13:04:13.370616",
     "status": "completed"
    },
    "tags": []
   },
   "source": [
    "# XGBoost Gradient Boosting Model"
   ]
  },
  {
   "cell_type": "code",
   "execution_count": null,
   "id": "8cf1fc62",
   "metadata": {
    "id": "iIRaFkXSgaM7",
    "papermill": {
     "duration": 1.13954,
     "end_time": "2022-09-14T13:04:14.572674",
     "exception": false,
     "start_time": "2022-09-14T13:04:13.433134",
     "status": "completed"
    },
    "tags": []
   },
   "outputs": [],
   "source": [
    "xgb_model = XGBClassifier(objective=\"binary:logistic\", random_state=42)\n",
    "xgb_model.fit(x_train, y_train)"
   ]
  },
  {
   "cell_type": "code",
   "execution_count": null,
   "id": "4765afda",
   "metadata": {
    "id": "mi0Ls5Y_gaM7",
    "papermill": {
     "duration": 0.091191,
     "end_time": "2022-09-14T13:04:14.695377",
     "exception": false,
     "start_time": "2022-09-14T13:04:14.604186",
     "status": "completed"
    },
    "tags": []
   },
   "outputs": [],
   "source": [
    "xgb_train, xgb_test = xgb_model.score(x_train , y_train), xgb_model.score(x_test , y_test)\n",
    "\n",
    "print(f\"Training Score: {xgb_train}\")\n",
    "print(f\"Test Score: {xgb_test}\")"
   ]
  },
  {
   "cell_type": "markdown",
   "id": "8f7cd328",
   "metadata": {
    "id": "ghUaUhBbkujg",
    "papermill": {
     "duration": 0.031879,
     "end_time": "2022-09-14T13:04:14.760390",
     "exception": false,
     "start_time": "2022-09-14T13:04:14.728511",
     "status": "completed"
    },
    "tags": []
   },
   "source": [
    "# Light Gradient Boosting Model"
   ]
  },
  {
   "cell_type": "code",
   "execution_count": null,
   "id": "6e030927",
   "metadata": {
    "id": "kfcPg5BOk-m9",
    "outputId": "9c423abe-e607-4b96-bbfe-eb4c69cc6093",
    "papermill": {
     "duration": 0.320923,
     "end_time": "2022-09-14T13:04:15.112952",
     "exception": false,
     "start_time": "2022-09-14T13:04:14.792029",
     "status": "completed"
    },
    "tags": []
   },
   "outputs": [],
   "source": [
    "lgb_model = LGBMClassifier(random_state=42)\n",
    "lgb_model.fit(x_train, y_train)"
   ]
  },
  {
   "cell_type": "code",
   "execution_count": null,
   "id": "600c5614",
   "metadata": {
    "id": "Y40nISynlIRT",
    "outputId": "46ee6dc6-e597-4a2b-ab92-756d66fd30e1",
    "papermill": {
     "duration": 0.103111,
     "end_time": "2022-09-14T13:04:15.249554",
     "exception": false,
     "start_time": "2022-09-14T13:04:15.146443",
     "status": "completed"
    },
    "tags": []
   },
   "outputs": [],
   "source": [
    "lgb_train, lgb_test = lgb_model.score(x_train , y_train), lgb_model.score(x_test , y_test)\n",
    "\n",
    "print(f\"Training Score: {lgb_train}\")\n",
    "print(f\"Test Score: {lgb_test}\")"
   ]
  },
  {
   "cell_type": "markdown",
   "id": "d777213a",
   "metadata": {
    "id": "RkCRpu2Djj-R",
    "papermill": {
     "duration": 0.032314,
     "end_time": "2022-09-14T13:04:15.315131",
     "exception": false,
     "start_time": "2022-09-14T13:04:15.282817",
     "status": "completed"
    },
    "tags": []
   },
   "source": [
    "# SKLearn AdaBoost Model"
   ]
  },
  {
   "cell_type": "code",
   "execution_count": null,
   "id": "8d74fd28",
   "metadata": {
    "id": "DnXWqmDmjnMl",
    "papermill": {
     "duration": 0.040892,
     "end_time": "2022-09-14T13:04:15.388779",
     "exception": false,
     "start_time": "2022-09-14T13:04:15.347887",
     "status": "completed"
    },
    "tags": []
   },
   "outputs": [],
   "source": [
    "ab_model = AdaBoostClassifier(random_state=42)"
   ]
  },
  {
   "cell_type": "code",
   "execution_count": null,
   "id": "c341ec06",
   "metadata": {
    "id": "ksnwKwX9kLId",
    "outputId": "9341174c-403d-444e-bdfa-66d2b54a7402",
    "papermill": {
     "duration": 0.745732,
     "end_time": "2022-09-14T13:04:16.166610",
     "exception": false,
     "start_time": "2022-09-14T13:04:15.420878",
     "status": "completed"
    },
    "tags": []
   },
   "outputs": [],
   "source": [
    "ab_model.fit(x_train, y_train)"
   ]
  },
  {
   "cell_type": "code",
   "execution_count": null,
   "id": "d3e436c5",
   "metadata": {
    "id": "bGrOgEYjkOOF",
    "outputId": "2dc4b251-0a7b-41c5-b583-909e7627e99e",
    "papermill": {
     "duration": 0.237085,
     "end_time": "2022-09-14T13:04:16.435893",
     "exception": false,
     "start_time": "2022-09-14T13:04:16.198808",
     "status": "completed"
    },
    "tags": []
   },
   "outputs": [],
   "source": [
    "ab_train, ab_test = ab_model.score(x_train , y_train), ab_model.score(x_test , y_test)\n",
    "\n",
    "print(f\"Training Score: {ab_train}\")\n",
    "print(f\"Test Score: {ab_test}\")"
   ]
  },
  {
   "cell_type": "markdown",
   "id": "b01a3852",
   "metadata": {
    "id": "XmfcuMDsmT_4",
    "papermill": {
     "duration": 0.0319,
     "end_time": "2022-09-14T13:04:16.499837",
     "exception": false,
     "start_time": "2022-09-14T13:04:16.467937",
     "status": "completed"
    },
    "tags": []
   },
   "source": [
    "# CatBoost Classifier Model"
   ]
  },
  {
   "cell_type": "code",
   "execution_count": null,
   "id": "84427972",
   "metadata": {
    "id": "ij_ABdLNmTou",
    "papermill": {
     "duration": 0.047067,
     "end_time": "2022-09-14T13:04:16.578976",
     "exception": false,
     "start_time": "2022-09-14T13:04:16.531909",
     "status": "completed"
    },
    "tags": []
   },
   "outputs": [],
   "source": [
    "cb_model = CatBoostClassifier(verbose=0)"
   ]
  },
  {
   "cell_type": "code",
   "execution_count": null,
   "id": "3e79f12f",
   "metadata": {
    "id": "FoGAf8dnoGZb",
    "outputId": "33e4cb16-d6bf-470d-913d-483335fb41f1",
    "papermill": {
     "duration": 5.197896,
     "end_time": "2022-09-14T13:04:21.809082",
     "exception": false,
     "start_time": "2022-09-14T13:04:16.611186",
     "status": "completed"
    },
    "tags": []
   },
   "outputs": [],
   "source": [
    "cb_model.fit(x_train, y_train)"
   ]
  },
  {
   "cell_type": "code",
   "execution_count": null,
   "id": "98259630",
   "metadata": {
    "id": "ln9RUK03oMh8",
    "outputId": "38794fbb-b471-4184-9e99-430795514712",
    "papermill": {
     "duration": 0.150514,
     "end_time": "2022-09-14T13:04:21.992982",
     "exception": false,
     "start_time": "2022-09-14T13:04:21.842468",
     "status": "completed"
    },
    "tags": []
   },
   "outputs": [],
   "source": [
    "cb_train, cb_test = cb_model.score(x_train , y_train), cb_model.score(x_test , y_test)\n",
    "\n",
    "print(f\"Training Score: {cb_train}\")\n",
    "print(f\"Test Score: {cb_test}\")"
   ]
  },
  {
   "cell_type": "markdown",
   "id": "4694e000",
   "metadata": {
    "papermill": {
     "duration": 0.031961,
     "end_time": "2022-09-14T13:04:22.057620",
     "exception": false,
     "start_time": "2022-09-14T13:04:22.025659",
     "status": "completed"
    },
    "tags": []
   },
   "source": [
    "# Naive Baye Model"
   ]
  },
  {
   "cell_type": "code",
   "execution_count": null,
   "id": "a777694e",
   "metadata": {
    "papermill": {
     "duration": 0.061526,
     "end_time": "2022-09-14T13:04:22.151534",
     "exception": false,
     "start_time": "2022-09-14T13:04:22.090008",
     "status": "completed"
    },
    "tags": []
   },
   "outputs": [],
   "source": [
    "BNB_model = BernoulliNB()\n",
    "BNB_model.fit(x_train, y_train)"
   ]
  },
  {
   "cell_type": "code",
   "execution_count": null,
   "id": "ff4828ec",
   "metadata": {
    "papermill": {
     "duration": 0.081524,
     "end_time": "2022-09-14T13:04:22.311056",
     "exception": false,
     "start_time": "2022-09-14T13:04:22.229532",
     "status": "completed"
    },
    "tags": []
   },
   "outputs": [],
   "source": [
    "BNB_train, BNB_test = BNB_model.score(x_train , y_train), BNB_model.score(x_test , y_test)\n",
    "\n",
    "print(f\"Training Score: {BNB_train}\")\n",
    "print(f\"Test Score: {BNB_test}\")"
   ]
  },
  {
   "cell_type": "markdown",
   "id": "d2ab6e9a",
   "metadata": {
    "id": "kVm4IjT8op2l",
    "papermill": {
     "duration": 0.045082,
     "end_time": "2022-09-14T13:04:22.435712",
     "exception": false,
     "start_time": "2022-09-14T13:04:22.390630",
     "status": "completed"
    },
    "tags": []
   },
   "source": [
    "# Voting Model "
   ]
  },
  {
   "cell_type": "code",
   "execution_count": null,
   "id": "57b47971",
   "metadata": {
    "id": "yOs3vSPtq3BB",
    "papermill": {
     "duration": 0.042407,
     "end_time": "2022-09-14T13:04:22.510911",
     "exception": false,
     "start_time": "2022-09-14T13:04:22.468504",
     "status": "completed"
    },
    "tags": []
   },
   "outputs": [],
   "source": [
    "v_clf = VotingClassifier(estimators=[('KNeighborsClassifier', KNN_model), (\"XGBClassifier\", xgb_model), (\"RandomForestClassifier\", rf), (\"DecisionTree\", dt), (\"XGBoost\", xgb_model), (\"LightGB\", lgb_model), (\"AdaBoost\", ab_model), (\"Catboost\", cb_model)], voting = \"hard\")"
   ]
  },
  {
   "cell_type": "code",
   "execution_count": null,
   "id": "6b930f25",
   "metadata": {
    "id": "pmTNtjFCrDdG",
    "outputId": "e316fb7a-46db-4b08-adac-63b09cf78b24",
    "papermill": {
     "duration": 8.803235,
     "end_time": "2022-09-14T13:04:31.347168",
     "exception": false,
     "start_time": "2022-09-14T13:04:22.543933",
     "status": "completed"
    },
    "tags": []
   },
   "outputs": [],
   "source": [
    "v_clf.fit(x_train, y_train)"
   ]
  },
  {
   "cell_type": "code",
   "execution_count": null,
   "id": "d2b187cb",
   "metadata": {
    "id": "anYHq3nhrM3a",
    "outputId": "b7c7f833-f698-40f8-82b4-62b7b6de3646",
    "papermill": {
     "duration": 3.05989,
     "end_time": "2022-09-14T13:04:34.440475",
     "exception": false,
     "start_time": "2022-09-14T13:04:31.380585",
     "status": "completed"
    },
    "tags": []
   },
   "outputs": [],
   "source": [
    "voting_train, voting_test = v_clf.score(x_train , y_train), v_clf.score(x_test , y_test)\n",
    "\n",
    "print(f\"Training Score: {voting_train}\")\n",
    "print(f\"Test Score: {voting_test}\")"
   ]
  },
  {
   "cell_type": "markdown",
   "id": "0dd03030-b37e-431c-9330-5a4e37d5ef3a",
   "metadata": {
    "papermill": {
     "duration": 0.034072,
     "end_time": "2022-09-14T13:06:39.642657",
     "exception": false,
     "start_time": "2022-09-14T13:06:39.608585",
     "status": "completed"
    },
    "tags": []
   },
   "source": [
    "# Bagging classifier"
   ]
  },
  {
   "cell_type": "code",
   "execution_count": null,
   "id": "a85b0861-c476-4614-8aaa-eeee16ece7fc",
   "metadata": {},
   "outputs": [],
   "source": [
    "baggin = BaggingClassifier(estimator=SVC(), n_estimators=10, random_state=0)\n",
    "baggin.fit(x_train , y_train)\n",
    "bag_train, bag_test = baggin.score(x_train , y_train), baggin.score(x_test , y_test)\n",
    "\n",
    "print(f\"Training Score: {bag_train}\")\n",
    "print(f\"Test Score: {bag_test}\")"
   ]
  },
  {
   "cell_type": "markdown",
   "id": "1728299a-e144-40fc-934d-1ee84a198b8f",
   "metadata": {
    "papermill": {
     "duration": 0.034072,
     "end_time": "2022-09-14T13:06:39.642657",
     "exception": false,
     "start_time": "2022-09-14T13:06:39.608585",
     "status": "completed"
    },
    "tags": []
   },
   "source": [
    "# RReliefF classifier"
   ]
  },
  {
   "cell_type": "code",
   "execution_count": null,
   "id": "3cc53ea4-6e06-40c1-a122-815058259cb6",
   "metadata": {},
   "outputs": [],
   "source": [
    "#baggin = BaggingClassifier(estimator=SVC(), n_estimators=10, random_state=0)\n",
    "#baggin.fit(x_train , y_train)\n",
    "#bag_train, bag_test = baggin.score(x_train , y_train), baggin.score(x_test , y_test)\n",
    "\n",
    "#r = sr.RReliefF(n_features = 20)\n",
    "#print(r.fit_transform(x_train,y_train))\n",
    "\n",
    "#print(f\"Training Score: {bag_train}\")\n",
    "#print(f\"Test Score: {bag_test}\")"
   ]
  },
  {
   "cell_type": "code",
   "execution_count": null,
   "id": "d830a6e9",
   "metadata": {
    "papermill": {
     "duration": 0.049905,
     "end_time": "2022-09-14T13:06:39.727076",
     "exception": false,
     "start_time": "2022-09-14T13:06:39.677171",
     "status": "completed"
    },
    "tags": []
   },
   "outputs": [],
   "source": [
    "data = [[\"*KNN\", KNN_train, KNN_test], \n",
    "        [\"*Logistic Regression\", lg_train, lg_test],\n",
    "        [\"Decision Tree\", dt_train, dt_test], \n",
    "        [\"Random Forest\", rf_train, rf_test], \n",
    "        [\"GBM\", SKGB_train, SKGB_test], \n",
    "        [\"XGBM\", xgb_train, xgb_test], \n",
    "        [\"*Adaboost\", ab_train, ab_test], \n",
    "        [\"light GBM\", lgb_train, lgb_test],\n",
    "        [\"CatBoost\", cb_train, cb_test], \n",
    "        [\"*Naive Baye Model\", BNB_train, BNB_test], \n",
    "        [\"*Voting\", voting_train, voting_test],\n",
    "        [\"*Baggings\", bag_train, bag_test]]\n",
    "\n",
    "col_names = [\"Model\", \"Train Score\", \"Test Score\"]\n",
    "print(tabulate(data, headers=col_names, tablefmt=\"fancy_grid\"))\n",
    "print('SVM Model takes a bit of time to run')\n",
    "print('please wait while it runs')"
   ]
  },
  {
   "cell_type": "markdown",
   "id": "a43694fc",
   "metadata": {
    "papermill": {
     "duration": 0.032636,
     "end_time": "2022-09-14T13:04:34.506297",
     "exception": false,
     "start_time": "2022-09-14T13:04:34.473661",
     "status": "completed"
    },
    "tags": []
   },
   "source": [
    "# SVM Model"
   ]
  },
  {
   "cell_type": "code",
   "execution_count": null,
   "id": "e390d8f6",
   "metadata": {
    "papermill": {
     "duration": 0.045122,
     "end_time": "2022-09-14T13:04:34.584753",
     "exception": false,
     "start_time": "2022-09-14T13:04:34.539631",
     "status": "completed"
    },
    "tags": []
   },
   "outputs": [],
   "source": [
    "def objective(trial):\n",
    "    kernel = trial.suggest_categorical('kernel', ['linear', 'rbf', 'poly', 'linearSVC'])\n",
    "    c = trial.suggest_float('c', 0.02, 1.0, step=0.02)\n",
    "    if kernel in ['linear', 'rbf']:\n",
    "        classifier_obj = SVC(kernel=kernel, C=c).fit(x_train, y_train)\n",
    "    elif kernel == 'linearSVC':\n",
    "        classifier_obj = LinearSVC(C=c).fit(x_train, y_train)\n",
    "    elif kernel == 'poly':\n",
    "        degree = trial.suggest_int('degree', 2, 10)\n",
    "        classifier_obj = SVC(kernel=kernel, C=c, degree=degree).fit(x_train, y_train)\n",
    "        \n",
    "    accuracy = classifier_obj.score(x_test, y_test)\n",
    "    return accuracy"
   ]
  },
  {
   "cell_type": "code",
   "execution_count": null,
   "id": "81394285",
   "metadata": {
    "papermill": {
     "duration": 119.390624,
     "end_time": "2022-09-14T13:06:34.008364",
     "exception": false,
     "start_time": "2022-09-14T13:04:34.617740",
     "status": "completed"
    },
    "tags": []
   },
   "outputs": [],
   "source": [
    "study_svm = optuna.create_study(direction='maximize')\n",
    "study_svm.optimize(objective, n_trials=3)\n",
    "print(study_svm.best_trial)"
   ]
  },
  {
   "cell_type": "code",
   "execution_count": null,
   "id": "ecfe6231",
   "metadata": {
    "papermill": {
     "duration": 2.604386,
     "end_time": "2022-09-14T13:06:36.662537",
     "exception": false,
     "start_time": "2022-09-14T13:06:34.058151",
     "status": "completed"
    },
    "tags": []
   },
   "outputs": [],
   "source": [
    "if study_svm.best_trial.params['kernel'] in ['linear', 'rbf']:\n",
    "    SVM_model = SVC(kernel=study_svm.best_trial.params['kernel'], C=study_svm.best_trial.params['c'])\n",
    "elif kernel == 'linearSVC':\n",
    "    SVM_model = LinearSVC(C=study_svm.best_trial.params['c'])\n",
    "elif kernel == 'poly':\n",
    "    SVM_model = SVC(kernel=study_svm.best_trial.params['kernel'], C=study_svm.best_trial.params['c'], degree=study_svm.best_trial.params['degree'])\n",
    "\n",
    "SVM_model.fit(x_train, y_train)"
   ]
  },
  {
   "cell_type": "code",
   "execution_count": null,
   "id": "bff2463d",
   "metadata": {
    "papermill": {
     "duration": 2.877378,
     "end_time": "2022-09-14T13:06:39.573929",
     "exception": false,
     "start_time": "2022-09-14T13:06:36.696551",
     "status": "completed"
    },
    "tags": []
   },
   "outputs": [],
   "source": [
    "SVM_train, SVM_test = SVM_model.score(x_train , y_train), SVM_model.score(x_test , y_test)\n",
    "\n",
    "print(f\"Training Score: {SVM_train}\")\n",
    "print(f\"Test Score: {SVM_test}\")"
   ]
  },
  {
   "cell_type": "markdown",
   "id": "c5994abb",
   "metadata": {
    "papermill": {
     "duration": 0.034072,
     "end_time": "2022-09-14T13:06:39.642657",
     "exception": false,
     "start_time": "2022-09-14T13:06:39.608585",
     "status": "completed"
    },
    "tags": []
   },
   "source": [
    "# Summary"
   ]
  },
  {
   "cell_type": "code",
   "execution_count": null,
   "id": "ba66d777-35a7-40b3-ac50-e7892b75f875",
   "metadata": {
    "papermill": {
     "duration": 0.049905,
     "end_time": "2022-09-14T13:06:39.727076",
     "exception": false,
     "start_time": "2022-09-14T13:06:39.677171",
     "status": "completed"
    },
    "tags": []
   },
   "outputs": [],
   "source": [
    "data = [[\"*KNN\", KNN_train, KNN_test], \n",
    "        [\"*Logistic Regression\", lg_train, lg_test],\n",
    "        [\"Decision Tree\", dt_train, dt_test], \n",
    "        [\"Random Forest\", rf_train, rf_test], \n",
    "        [\"GBM\", SKGB_train, SKGB_test], \n",
    "        [\"XGBM\", xgb_train, xgb_test], \n",
    "        [\"*Adaboost\", ab_train, ab_test], \n",
    "        [\"light GBM\", lgb_train, lgb_test],\n",
    "        [\"CatBoost\", cb_train, cb_test], \n",
    "        [\"*Naive Baye Model\", BNB_train, BNB_test], \n",
    "        [\"*Voting\", voting_train, voting_test],\n",
    "        [\"*Baggings\", bag_train, bag_test],\n",
    "        [\"*SVM\", SVM_train, SVM_test]]\n",
    "\n",
    "col_names = [\"Model\", \"Train Score\", \"Test Score\"]\n",
    "print(tabulate(data, headers=col_names, tablefmt=\"fancy_grid\"))"
   ]
  },
  {
   "cell_type": "code",
   "execution_count": null,
   "id": "efbf3a12-7e15-4192-a44d-139f01c676d8",
   "metadata": {},
   "outputs": [],
   "source": []
  },
  {
   "cell_type": "code",
   "execution_count": null,
   "id": "705a69ab-6747-4480-8faa-8fc619ca3670",
   "metadata": {},
   "outputs": [],
   "source": []
  }
 ],
 "metadata": {
  "kernelspec": {
   "display_name": "Python 3",
   "language": "python",
   "name": "python3"
  },
  "language_info": {
   "codemirror_mode": {
    "name": "ipython",
    "version": 3
   },
   "file_extension": ".py",
   "mimetype": "text/x-python",
   "name": "python",
   "nbconvert_exporter": "python",
   "pygments_lexer": "ipython3",
   "version": "3.11.4"
  },
  "papermill": {
   "default_parameters": {},
   "duration": 279.596355,
   "end_time": "2022-09-14T13:06:40.893210",
   "environment_variables": {},
   "exception": null,
   "input_path": "__notebook__.ipynb",
   "output_path": "__notebook__.ipynb",
   "parameters": {},
   "start_time": "2022-09-14T13:02:01.296855",
   "version": "2.3.4"
  }
 },
 "nbformat": 4,
 "nbformat_minor": 5
}
