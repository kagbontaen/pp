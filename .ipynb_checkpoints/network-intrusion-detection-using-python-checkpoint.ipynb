{
 "cells": [
  {
   "cell_type": "code",
   "execution_count": 2,
   "metadata": {
    "_cell_guid": "20f25fc1-e423-4344-98b6-9480bffcb303",
    "_uuid": "82a00637-3601-4177-924e-ec8431d7868e",
    "collapsed": false,
    "jupyter": {
     "outputs_hidden": false
    },
    "tags": []
   },
   "outputs": [
    {
     "ename": "ImportError",
     "evalue": "cannot import name '_MissingValues' from 'sklearn.utils._param_validation' (C:\\ProgramData\\anaconda3\\Lib\\site-packages\\sklearn\\utils\\_param_validation.py)",
     "output_type": "error",
     "traceback": [
      "\u001b[1;31m---------------------------------------------------------------------------\u001b[0m",
      "\u001b[1;31mImportError\u001b[0m                               Traceback (most recent call last)",
      "Cell \u001b[1;32mIn[2], line 9\u001b[0m\n\u001b[0;32m      7\u001b[0m \u001b[38;5;28;01mimport\u001b[39;00m \u001b[38;5;21;01mseaborn\u001b[39;00m \u001b[38;5;28;01mas\u001b[39;00m \u001b[38;5;21;01msns\u001b[39;00m\n\u001b[0;32m      8\u001b[0m \u001b[38;5;28;01mimport\u001b[39;00m \u001b[38;5;21;01msklearn\u001b[39;00m\n\u001b[1;32m----> 9\u001b[0m \u001b[38;5;28;01mimport\u001b[39;00m \u001b[38;5;21;01mimblearn\u001b[39;00m\n\u001b[0;32m     10\u001b[0m \u001b[38;5;28;01mimport\u001b[39;00m \u001b[38;5;21;01mos\u001b[39;00m\n\u001b[0;32m     12\u001b[0m \u001b[38;5;66;03m# Ignore warnings\u001b[39;00m\n",
      "File \u001b[1;32mC:\\ProgramData\\anaconda3\\Lib\\site-packages\\imblearn\\__init__.py:52\u001b[0m\n\u001b[0;32m     48\u001b[0m     sys\u001b[38;5;241m.\u001b[39mstderr\u001b[38;5;241m.\u001b[39mwrite(\u001b[38;5;124m\"\u001b[39m\u001b[38;5;124mPartial import of imblearn during the build process.\u001b[39m\u001b[38;5;130;01m\\n\u001b[39;00m\u001b[38;5;124m\"\u001b[39m)\n\u001b[0;32m     49\u001b[0m     \u001b[38;5;66;03m# We are not importing the rest of scikit-learn during the build\u001b[39;00m\n\u001b[0;32m     50\u001b[0m     \u001b[38;5;66;03m# process, as it may not be compiled yet\u001b[39;00m\n\u001b[0;32m     51\u001b[0m \u001b[38;5;28;01melse\u001b[39;00m:\n\u001b[1;32m---> 52\u001b[0m     \u001b[38;5;28;01mfrom\u001b[39;00m \u001b[38;5;21;01m.\u001b[39;00m \u001b[38;5;28;01mimport\u001b[39;00m (\n\u001b[0;32m     53\u001b[0m         combine,\n\u001b[0;32m     54\u001b[0m         ensemble,\n\u001b[0;32m     55\u001b[0m         exceptions,\n\u001b[0;32m     56\u001b[0m         metrics,\n\u001b[0;32m     57\u001b[0m         over_sampling,\n\u001b[0;32m     58\u001b[0m         pipeline,\n\u001b[0;32m     59\u001b[0m         tensorflow,\n\u001b[0;32m     60\u001b[0m         under_sampling,\n\u001b[0;32m     61\u001b[0m         utils,\n\u001b[0;32m     62\u001b[0m     )\n\u001b[0;32m     63\u001b[0m     \u001b[38;5;28;01mfrom\u001b[39;00m \u001b[38;5;21;01m.\u001b[39;00m\u001b[38;5;21;01m_version\u001b[39;00m \u001b[38;5;28;01mimport\u001b[39;00m __version__\n\u001b[0;32m     64\u001b[0m     \u001b[38;5;28;01mfrom\u001b[39;00m \u001b[38;5;21;01m.\u001b[39;00m\u001b[38;5;21;01mbase\u001b[39;00m \u001b[38;5;28;01mimport\u001b[39;00m FunctionSampler\n",
      "File \u001b[1;32mC:\\ProgramData\\anaconda3\\Lib\\site-packages\\imblearn\\combine\\__init__.py:5\u001b[0m\n\u001b[0;32m      1\u001b[0m \u001b[38;5;124;03m\"\"\"The :mod:`imblearn.combine` provides methods which combine\u001b[39;00m\n\u001b[0;32m      2\u001b[0m \u001b[38;5;124;03mover-sampling and under-sampling.\u001b[39;00m\n\u001b[0;32m      3\u001b[0m \u001b[38;5;124;03m\"\"\"\u001b[39;00m\n\u001b[1;32m----> 5\u001b[0m \u001b[38;5;28;01mfrom\u001b[39;00m \u001b[38;5;21;01m.\u001b[39;00m\u001b[38;5;21;01m_smote_enn\u001b[39;00m \u001b[38;5;28;01mimport\u001b[39;00m SMOTEENN\n\u001b[0;32m      6\u001b[0m \u001b[38;5;28;01mfrom\u001b[39;00m \u001b[38;5;21;01m.\u001b[39;00m\u001b[38;5;21;01m_smote_tomek\u001b[39;00m \u001b[38;5;28;01mimport\u001b[39;00m SMOTETomek\n\u001b[0;32m      8\u001b[0m __all__ \u001b[38;5;241m=\u001b[39m [\u001b[38;5;124m\"\u001b[39m\u001b[38;5;124mSMOTEENN\u001b[39m\u001b[38;5;124m\"\u001b[39m, \u001b[38;5;124m\"\u001b[39m\u001b[38;5;124mSMOTETomek\u001b[39m\u001b[38;5;124m\"\u001b[39m]\n",
      "File \u001b[1;32mC:\\ProgramData\\anaconda3\\Lib\\site-packages\\imblearn\\combine\\_smote_enn.py:12\u001b[0m\n\u001b[0;32m      9\u001b[0m \u001b[38;5;28;01mfrom\u001b[39;00m \u001b[38;5;21;01msklearn\u001b[39;00m\u001b[38;5;21;01m.\u001b[39;00m\u001b[38;5;21;01mbase\u001b[39;00m \u001b[38;5;28;01mimport\u001b[39;00m clone\n\u001b[0;32m     10\u001b[0m \u001b[38;5;28;01mfrom\u001b[39;00m \u001b[38;5;21;01msklearn\u001b[39;00m\u001b[38;5;21;01m.\u001b[39;00m\u001b[38;5;21;01mutils\u001b[39;00m \u001b[38;5;28;01mimport\u001b[39;00m check_X_y\n\u001b[1;32m---> 12\u001b[0m \u001b[38;5;28;01mfrom\u001b[39;00m \u001b[38;5;21;01m.\u001b[39;00m\u001b[38;5;21;01m.\u001b[39;00m\u001b[38;5;21;01mbase\u001b[39;00m \u001b[38;5;28;01mimport\u001b[39;00m BaseSampler\n\u001b[0;32m     13\u001b[0m \u001b[38;5;28;01mfrom\u001b[39;00m \u001b[38;5;21;01m.\u001b[39;00m\u001b[38;5;21;01m.\u001b[39;00m\u001b[38;5;21;01mover_sampling\u001b[39;00m \u001b[38;5;28;01mimport\u001b[39;00m SMOTE\n\u001b[0;32m     14\u001b[0m \u001b[38;5;28;01mfrom\u001b[39;00m \u001b[38;5;21;01m.\u001b[39;00m\u001b[38;5;21;01m.\u001b[39;00m\u001b[38;5;21;01mover_sampling\u001b[39;00m\u001b[38;5;21;01m.\u001b[39;00m\u001b[38;5;21;01mbase\u001b[39;00m \u001b[38;5;28;01mimport\u001b[39;00m BaseOverSampler\n",
      "File \u001b[1;32mC:\\ProgramData\\anaconda3\\Lib\\site-packages\\imblearn\\base.py:21\u001b[0m\n\u001b[0;32m     18\u001b[0m \u001b[38;5;28;01mfrom\u001b[39;00m \u001b[38;5;21;01msklearn\u001b[39;00m\u001b[38;5;21;01m.\u001b[39;00m\u001b[38;5;21;01mutils\u001b[39;00m\u001b[38;5;21;01m.\u001b[39;00m\u001b[38;5;21;01mmulticlass\u001b[39;00m \u001b[38;5;28;01mimport\u001b[39;00m check_classification_targets\n\u001b[0;32m     20\u001b[0m \u001b[38;5;28;01mfrom\u001b[39;00m \u001b[38;5;21;01m.\u001b[39;00m\u001b[38;5;21;01mutils\u001b[39;00m \u001b[38;5;28;01mimport\u001b[39;00m check_sampling_strategy, check_target_type\n\u001b[1;32m---> 21\u001b[0m \u001b[38;5;28;01mfrom\u001b[39;00m \u001b[38;5;21;01m.\u001b[39;00m\u001b[38;5;21;01mutils\u001b[39;00m\u001b[38;5;21;01m.\u001b[39;00m\u001b[38;5;21;01m_param_validation\u001b[39;00m \u001b[38;5;28;01mimport\u001b[39;00m validate_parameter_constraints\n\u001b[0;32m     22\u001b[0m \u001b[38;5;28;01mfrom\u001b[39;00m \u001b[38;5;21;01m.\u001b[39;00m\u001b[38;5;21;01mutils\u001b[39;00m\u001b[38;5;21;01m.\u001b[39;00m\u001b[38;5;21;01m_validation\u001b[39;00m \u001b[38;5;28;01mimport\u001b[39;00m ArraysTransformer\n\u001b[0;32m     25\u001b[0m \u001b[38;5;28;01mclass\u001b[39;00m \u001b[38;5;21;01mSamplerMixin\u001b[39;00m(BaseEstimator, metaclass\u001b[38;5;241m=\u001b[39mABCMeta):\n",
      "File \u001b[1;32mC:\\ProgramData\\anaconda3\\Lib\\site-packages\\imblearn\\utils\\_param_validation.py:908\u001b[0m\n\u001b[0;32m    906\u001b[0m \u001b[38;5;28;01mfrom\u001b[39;00m \u001b[38;5;21;01msklearn\u001b[39;00m\u001b[38;5;21;01m.\u001b[39;00m\u001b[38;5;21;01mutils\u001b[39;00m\u001b[38;5;21;01m.\u001b[39;00m\u001b[38;5;21;01m_param_validation\u001b[39;00m \u001b[38;5;28;01mimport\u001b[39;00m generate_valid_param  \u001b[38;5;66;03m# noqa\u001b[39;00m\n\u001b[0;32m    907\u001b[0m \u001b[38;5;28;01mfrom\u001b[39;00m \u001b[38;5;21;01msklearn\u001b[39;00m\u001b[38;5;21;01m.\u001b[39;00m\u001b[38;5;21;01mutils\u001b[39;00m\u001b[38;5;21;01m.\u001b[39;00m\u001b[38;5;21;01m_param_validation\u001b[39;00m \u001b[38;5;28;01mimport\u001b[39;00m validate_parameter_constraints  \u001b[38;5;66;03m# noqa\u001b[39;00m\n\u001b[1;32m--> 908\u001b[0m \u001b[38;5;28;01mfrom\u001b[39;00m \u001b[38;5;21;01msklearn\u001b[39;00m\u001b[38;5;21;01m.\u001b[39;00m\u001b[38;5;21;01mutils\u001b[39;00m\u001b[38;5;21;01m.\u001b[39;00m\u001b[38;5;21;01m_param_validation\u001b[39;00m \u001b[38;5;28;01mimport\u001b[39;00m (\n\u001b[0;32m    909\u001b[0m     HasMethods,\n\u001b[0;32m    910\u001b[0m     Hidden,\n\u001b[0;32m    911\u001b[0m     Interval,\n\u001b[0;32m    912\u001b[0m     Options,\n\u001b[0;32m    913\u001b[0m     StrOptions,\n\u001b[0;32m    914\u001b[0m     _ArrayLikes,\n\u001b[0;32m    915\u001b[0m     _Booleans,\n\u001b[0;32m    916\u001b[0m     _Callables,\n\u001b[0;32m    917\u001b[0m     _CVObjects,\n\u001b[0;32m    918\u001b[0m     _InstancesOf,\n\u001b[0;32m    919\u001b[0m     _IterablesNotString,\n\u001b[0;32m    920\u001b[0m     _MissingValues,\n\u001b[0;32m    921\u001b[0m     _NoneConstraint,\n\u001b[0;32m    922\u001b[0m     _PandasNAConstraint,\n\u001b[0;32m    923\u001b[0m     _RandomStates,\n\u001b[0;32m    924\u001b[0m     _SparseMatrices,\n\u001b[0;32m    925\u001b[0m     _VerboseHelper,\n\u001b[0;32m    926\u001b[0m     make_constraint,\n\u001b[0;32m    927\u001b[0m     validate_params,\n\u001b[0;32m    928\u001b[0m )\n",
      "\u001b[1;31mImportError\u001b[0m: cannot import name '_MissingValues' from 'sklearn.utils._param_validation' (C:\\ProgramData\\anaconda3\\Lib\\site-packages\\sklearn\\utils\\_param_validation.py)"
     ]
    }
   ],
   "source": [
    "# import relevant modules\n",
    "%matplotlib inline\n",
    "import matplotlib\n",
    "import matplotlib.pyplot as plt\n",
    "import pandas as pd\n",
    "import numpy as np\n",
    "import seaborn as sns\n",
    "import sklearn\n",
    "import imblearn\n",
    "import os\n",
    "\n",
    "# Ignore warnings\n",
    "import warnings\n",
    "warnings.filterwarnings('ignore')\n",
    "\n",
    "# Settings\n",
    "pd.set_option('display.max_columns', None)\n",
    "#np.set_printoptions(threshold=np.NaN)\n",
    "np.set_printoptions(precision=3)\n",
    "sns.set(style=\"darkgrid\")\n",
    "plt.rcParams['axes.labelsize'] = 14\n",
    "plt.rcParams['xtick.labelsize'] = 12\n",
    "plt.rcParams['ytick.labelsize'] = 12"
   ]
  },
  {
   "cell_type": "markdown",
   "metadata": {
    "_cell_guid": "8ad2a6b4-4048-4db4-a2ce-4d5b69cbe947",
    "_uuid": "32b8879e-6df5-474e-bf3b-5ec2ec06395f"
   },
   "source": [
    "# LOAD DATA"
   ]
  },
  {
   "cell_type": "code",
   "execution_count": 3,
   "metadata": {
    "_cell_guid": "c054d942-b24a-4213-9f61-aa275e1b6f09",
    "_uuid": "8358556d-a326-40f8-b555-b06edb8d1017",
    "collapsed": false,
    "jupyter": {
     "outputs_hidden": false
    },
    "tags": []
   },
   "outputs": [
    {
     "ename": "NameError",
     "evalue": "name 'os' is not defined",
     "output_type": "error",
     "traceback": [
      "\u001b[1;31m---------------------------------------------------------------------------\u001b[0m",
      "\u001b[1;31mNameError\u001b[0m                                 Traceback (most recent call last)",
      "Cell \u001b[1;32mIn[3], line 1\u001b[0m\n\u001b[1;32m----> 1\u001b[0m \u001b[38;5;28;01mfor\u001b[39;00m dirname, _, filenames \u001b[38;5;129;01min\u001b[39;00m os\u001b[38;5;241m.\u001b[39mwalk(\u001b[38;5;124m'\u001b[39m\u001b[38;5;124m.\u001b[39m\u001b[38;5;124m\\\u001b[39m\u001b[38;5;124mkaggle\u001b[39m\u001b[38;5;124m\\\u001b[39m\u001b[38;5;124minput\u001b[39m\u001b[38;5;124m'\u001b[39m):\n\u001b[0;32m      2\u001b[0m     \u001b[38;5;28;01mfor\u001b[39;00m filename \u001b[38;5;129;01min\u001b[39;00m filenames:\n\u001b[0;32m      3\u001b[0m         \u001b[38;5;28mprint\u001b[39m(os\u001b[38;5;241m.\u001b[39mpath\u001b[38;5;241m.\u001b[39mjoin(dirname, filename))\n",
      "\u001b[1;31mNameError\u001b[0m: name 'os' is not defined"
     ]
    }
   ],
   "source": [
    "for dirname, _, filenames in os.walk('.\\kaggle\\input'):\n",
    "    for filename in filenames:\n",
    "        print(os.path.join(dirname, filename))\n",
    "        if 'Train' in filename:\n",
    "            train=pd.read_csv(os.path.join(dirname, filename))\n",
    "        if 'Test' in filename:\n",
    "            test=pd.read_csv(os.path.join(dirname, filename))"
   ]
  },
  {
   "cell_type": "code",
   "execution_count": 1,
   "metadata": {
    "_cell_guid": "9a82ad18-71cc-4794-94e5-0a63337be816",
    "_uuid": "a70ab470-3c81-4431-b4db-aeb4d71b343c",
    "collapsed": false,
    "jupyter": {
     "outputs_hidden": false
    },
    "tags": []
   },
   "outputs": [
    {
     "ename": "NameError",
     "evalue": "name 'train' is not defined",
     "output_type": "error",
     "traceback": [
      "\u001b[1;31m---------------------------------------------------------------------------\u001b[0m",
      "\u001b[1;31mNameError\u001b[0m                                 Traceback (most recent call last)",
      "Cell \u001b[1;32mIn[1], line 1\u001b[0m\n\u001b[1;32m----> 1\u001b[0m \u001b[38;5;28mprint\u001b[39m(train\u001b[38;5;241m.\u001b[39mhead(\u001b[38;5;241m4\u001b[39m))\n\u001b[0;32m      3\u001b[0m \u001b[38;5;28mprint\u001b[39m(\u001b[38;5;124m\"\u001b[39m\u001b[38;5;124mTraining data has \u001b[39m\u001b[38;5;132;01m{}\u001b[39;00m\u001b[38;5;124m rows & \u001b[39m\u001b[38;5;132;01m{}\u001b[39;00m\u001b[38;5;124m columns\u001b[39m\u001b[38;5;124m\"\u001b[39m\u001b[38;5;241m.\u001b[39mformat(train\u001b[38;5;241m.\u001b[39mshape[\u001b[38;5;241m0\u001b[39m],train\u001b[38;5;241m.\u001b[39mshape[\u001b[38;5;241m1\u001b[39m]))\n",
      "\u001b[1;31mNameError\u001b[0m: name 'train' is not defined"
     ]
    }
   ],
   "source": [
    "print(train.head(4))\n",
    "\n",
    "print(\"Training data has {} rows & {} columns\".format(train.shape[0],train.shape[1]))"
   ]
  },
  {
   "cell_type": "code",
   "execution_count": null,
   "metadata": {
    "_cell_guid": "a84b23e5-f6b7-4ca3-a080-f99a3d15ef66",
    "_uuid": "549d9eec-d0da-488a-8d2d-b6ac0ec6c7d1",
    "collapsed": false,
    "execution": {
     "iopub.execute_input": "2023-09-05T06:53:18.832471Z",
     "iopub.status.busy": "2023-09-05T06:53:18.832206Z",
     "iopub.status.idle": "2023-09-05T06:53:18.859405Z",
     "shell.execute_reply": "2023-09-05T06:53:18.858502Z",
     "shell.execute_reply.started": "2023-09-05T06:53:18.832418Z"
    },
    "jupyter": {
     "outputs_hidden": false
    }
   },
   "outputs": [],
   "source": [
    "print(test.head(4))\n",
    "\n",
    "print(\"Testing data has {} rows & {} columns\".format(test.shape[0],test.shape[1]))"
   ]
  },
  {
   "cell_type": "markdown",
   "metadata": {
    "_cell_guid": "032deb57-eb2e-476c-8abc-36801f312c95",
    "_uuid": "41ae5b96-b294-469b-95ae-77784ebbb79d"
   },
   "source": [
    "# EXPLORATORY ANALYSIS"
   ]
  },
  {
   "cell_type": "code",
   "execution_count": null,
   "metadata": {
    "_cell_guid": "fb01de03-96bd-4434-9dd3-abcc27d46fa4",
    "_uuid": "2c5ef228-7625-4c7d-8f86-be3a5258e3cb",
    "collapsed": false,
    "execution": {
     "iopub.execute_input": "2023-09-05T06:53:18.860589Z",
     "iopub.status.busy": "2023-09-05T06:53:18.860327Z",
     "iopub.status.idle": "2023-09-05T06:53:19.007062Z",
     "shell.execute_reply": "2023-09-05T06:53:19.006320Z",
     "shell.execute_reply.started": "2023-09-05T06:53:18.860540Z"
    },
    "jupyter": {
     "outputs_hidden": false
    }
   },
   "outputs": [],
   "source": [
    "# Descriptive statistics\n",
    "train.describe()"
   ]
  },
  {
   "cell_type": "code",
   "execution_count": null,
   "metadata": {
    "_cell_guid": "b3bc878f-233b-4c06-9608-98c62b8e0d5d",
    "_uuid": "02193e56-368d-4b6e-a46c-8eb36e8c83b4",
    "collapsed": false,
    "execution": {
     "iopub.execute_input": "2023-09-05T06:53:19.008591Z",
     "iopub.status.busy": "2023-09-05T06:53:19.008171Z",
     "iopub.status.idle": "2023-09-05T06:53:19.020190Z",
     "shell.execute_reply": "2023-09-05T06:53:19.018434Z",
     "shell.execute_reply.started": "2023-09-05T06:53:19.008531Z"
    },
    "jupyter": {
     "outputs_hidden": false
    }
   },
   "outputs": [],
   "source": [
    "print(train['num_outbound_cmds'].value_counts())\n",
    "print(test['num_outbound_cmds'].value_counts())"
   ]
  },
  {
   "cell_type": "code",
   "execution_count": null,
   "metadata": {
    "_cell_guid": "95f78b3a-ec0a-49c5-96f9-a3aa801c00ae",
    "_uuid": "2a9b9e31-af3e-4981-8c6b-a2248eebe53d",
    "collapsed": false,
    "execution": {
     "iopub.execute_input": "2023-09-05T06:53:19.022035Z",
     "iopub.status.busy": "2023-09-05T06:53:19.021625Z",
     "iopub.status.idle": "2023-09-05T06:53:19.040551Z",
     "shell.execute_reply": "2023-09-05T06:53:19.039257Z",
     "shell.execute_reply.started": "2023-09-05T06:53:19.021925Z"
    },
    "jupyter": {
     "outputs_hidden": false
    }
   },
   "outputs": [],
   "source": [
    "#'num_outbound_cmds' is a redundant column so remove it from both train & test datasets\n",
    "train.drop(['num_outbound_cmds'], axis=1, inplace=True)\n",
    "test.drop(['num_outbound_cmds'], axis=1, inplace=True)"
   ]
  },
  {
   "cell_type": "code",
   "execution_count": null,
   "metadata": {
    "_cell_guid": "39acc218-bfec-4004-a491-5a0ce489c058",
    "_uuid": "b9880f43-59bc-410f-8f44-5b8f3fcb4580",
    "collapsed": false,
    "execution": {
     "iopub.execute_input": "2023-09-05T06:53:19.042849Z",
     "iopub.status.busy": "2023-09-05T06:53:19.042533Z",
     "iopub.status.idle": "2023-09-05T06:53:19.062240Z",
     "shell.execute_reply": "2023-09-05T06:53:19.061370Z",
     "shell.execute_reply.started": "2023-09-05T06:53:19.042795Z"
    },
    "jupyter": {
     "outputs_hidden": false
    }
   },
   "outputs": [],
   "source": [
    "# Attack Class Distribution\n",
    "train['class'].value_counts()"
   ]
  },
  {
   "cell_type": "markdown",
   "metadata": {
    "_cell_guid": "ecf68948-d183-4975-95de-e179bcf5bb3d",
    "_uuid": "c2ae3e03-ab70-4e44-903e-acb448d62af4"
   },
   "source": [
    "# SCALING NUMERICAL ATTRIBUTES"
   ]
  },
  {
   "cell_type": "code",
   "execution_count": null,
   "metadata": {
    "_cell_guid": "ee63fba4-c167-4cef-9dc7-447204f3861e",
    "_uuid": "964b4b46-6919-463d-a1c5-e7d6a1ed695c",
    "collapsed": false,
    "execution": {
     "iopub.execute_input": "2023-09-05T06:53:19.063829Z",
     "iopub.status.busy": "2023-09-05T06:53:19.063397Z",
     "iopub.status.idle": "2023-09-05T06:53:19.126421Z",
     "shell.execute_reply": "2023-09-05T06:53:19.125207Z",
     "shell.execute_reply.started": "2023-09-05T06:53:19.063787Z"
    },
    "jupyter": {
     "outputs_hidden": false
    }
   },
   "outputs": [],
   "source": [
    "from sklearn.preprocessing import StandardScaler\n",
    "scaler = StandardScaler()\n",
    "\n",
    "# extract numerical attributes and scale it to have zero mean and unit variance  \n",
    "cols = train.select_dtypes(include=['float64','int64']).columns\n",
    "sc_train = scaler.fit_transform(train.select_dtypes(include=['float64','int64']))\n",
    "sc_test = scaler.fit_transform(test.select_dtypes(include=['float64','int64']))\n",
    "\n",
    "# turn the result back to a dataframe\n",
    "sc_traindf = pd.DataFrame(sc_train, columns = cols)\n",
    "sc_testdf = pd.DataFrame(sc_test, columns = cols)"
   ]
  },
  {
   "cell_type": "markdown",
   "metadata": {
    "_cell_guid": "6f9fa8ce-a5e1-4c74-ac71-a22e0feba7eb",
    "_uuid": "b13e62fc-b4af-4cc6-a763-1c8468f9fba1"
   },
   "source": [
    "# ENCODING CATEGORICAL ATTRIBUTES"
   ]
  },
  {
   "cell_type": "code",
   "execution_count": null,
   "metadata": {
    "_cell_guid": "7d7d1b86-684c-40a3-b11b-3d5de66a81cc",
    "_uuid": "52be8ffd-ddb8-4c71-93c0-8a05f026ddfd",
    "collapsed": false,
    "execution": {
     "iopub.execute_input": "2023-09-05T06:53:19.127860Z",
     "iopub.status.busy": "2023-09-05T06:53:19.127571Z",
     "iopub.status.idle": "2023-09-05T06:53:19.190208Z",
     "shell.execute_reply": "2023-09-05T06:53:19.188947Z",
     "shell.execute_reply.started": "2023-09-05T06:53:19.127806Z"
    },
    "jupyter": {
     "outputs_hidden": false
    }
   },
   "outputs": [],
   "source": [
    "from sklearn.preprocessing import LabelEncoder\n",
    "encoder = LabelEncoder()\n",
    "\n",
    "# extract categorical attributes from both training and test sets \n",
    "cattrain = train.select_dtypes(include=['object']).copy()\n",
    "cattest = test.select_dtypes(include=['object']).copy()\n",
    "\n",
    "# encode the categorical attributes\n",
    "traincat = cattrain.apply(encoder.fit_transform)\n",
    "testcat = cattest.apply(encoder.fit_transform)\n",
    "\n",
    "# separate target column from encoded data \n",
    "enctrain = traincat.drop(['class'], axis=1)\n",
    "cat_Ytrain = traincat[['class']].copy()"
   ]
  },
  {
   "cell_type": "code",
   "execution_count": null,
   "metadata": {
    "_cell_guid": "69b23b2c-e7c4-4884-adba-04f0d82382f3",
    "_uuid": "e6b1cda3-7398-4ea3-bb4e-eec2d03b6c17",
    "collapsed": false,
    "execution": {
     "iopub.execute_input": "2023-09-05T06:53:19.191719Z",
     "iopub.status.busy": "2023-09-05T06:53:19.191438Z",
     "iopub.status.idle": "2023-09-05T06:53:19.199497Z",
     "shell.execute_reply": "2023-09-05T06:53:19.198593Z",
     "shell.execute_reply.started": "2023-09-05T06:53:19.191666Z"
    },
    "jupyter": {
     "outputs_hidden": false
    }
   },
   "outputs": [],
   "source": [
    "train_x = pd.concat([sc_traindf,enctrain],axis=1)\n",
    "train_y = train['class']\n",
    "train_x.shape"
   ]
  },
  {
   "cell_type": "code",
   "execution_count": null,
   "metadata": {
    "_cell_guid": "7e724640-7c55-4fe1-b6f4-f25586af2f4d",
    "_uuid": "f27c67e6-af32-45df-b228-f3df84e28712",
    "collapsed": false,
    "execution": {
     "iopub.execute_input": "2023-09-05T06:53:19.200728Z",
     "iopub.status.busy": "2023-09-05T06:53:19.200484Z",
     "iopub.status.idle": "2023-09-05T06:53:19.215224Z",
     "shell.execute_reply": "2023-09-05T06:53:19.214491Z",
     "shell.execute_reply.started": "2023-09-05T06:53:19.200680Z"
    },
    "jupyter": {
     "outputs_hidden": false
    }
   },
   "outputs": [],
   "source": [
    "test_df = pd.concat([sc_testdf,testcat],axis=1)\n",
    "test_df.shape"
   ]
  },
  {
   "cell_type": "markdown",
   "metadata": {
    "_cell_guid": "e084d0e6-6e70-4fef-9e4c-1f30e7718234",
    "_uuid": "580e27d8-6205-42ce-ac5a-58a6993dc929"
   },
   "source": [
    "# FEATURE SELECTION"
   ]
  },
  {
   "cell_type": "code",
   "execution_count": null,
   "metadata": {
    "_cell_guid": "109f577c-3412-4b21-8622-478521575e79",
    "_uuid": "6dcbf206-1def-4a4a-8f4b-24985170a773",
    "collapsed": false,
    "execution": {
     "iopub.execute_input": "2023-09-05T06:53:19.216617Z",
     "iopub.status.busy": "2023-09-05T06:53:19.216361Z",
     "iopub.status.idle": "2023-09-05T06:53:19.870017Z",
     "shell.execute_reply": "2023-09-05T06:53:19.869494Z",
     "shell.execute_reply.started": "2023-09-05T06:53:19.216571Z"
    },
    "jupyter": {
     "outputs_hidden": false
    }
   },
   "outputs": [],
   "source": [
    "from sklearn.ensemble import RandomForestClassifier\n",
    "rfc = RandomForestClassifier();\n",
    "\n",
    "# fit random forest classifier on the training set\n",
    "rfc.fit(train_x, train_y);\n",
    "# extract important features\n",
    "score = np.round(rfc.feature_importances_,3)\n",
    "importances = pd.DataFrame({'feature':train_x.columns,'importance':score})\n",
    "importances = importances.sort_values('importance',ascending=False).set_index('feature')\n",
    "# plot importances\n",
    "plt.rcParams['figure.figsize'] = (11, 4)\n",
    "importances.plot.bar();"
   ]
  },
  {
   "cell_type": "code",
   "execution_count": null,
   "metadata": {
    "_cell_guid": "51555634-6dba-42a4-9d84-8e17be76a6c8",
    "_uuid": "f8d46e01-61b0-444b-88d3-11d778c68e1a",
    "collapsed": false,
    "execution": {
     "iopub.execute_input": "2023-09-05T06:53:19.871223Z",
     "iopub.status.busy": "2023-09-05T06:53:19.870877Z",
     "iopub.status.idle": "2023-09-05T06:53:25.882996Z",
     "shell.execute_reply": "2023-09-05T06:53:25.881985Z",
     "shell.execute_reply.started": "2023-09-05T06:53:19.871185Z"
    },
    "jupyter": {
     "outputs_hidden": false
    }
   },
   "outputs": [],
   "source": [
    "from sklearn.feature_selection import RFE\n",
    "import itertools\n",
    "rfc = RandomForestClassifier()\n",
    "\n",
    "# create the RFE model and select 10 attributes\n",
    "rfe = RFE(rfc, n_features_to_select=15)\n",
    "rfe = rfe.fit(train_x, train_y)\n",
    "\n",
    "# summarize the selection of the attributes\n",
    "feature_map = [(i, v) for i, v in itertools.zip_longest(rfe.get_support(), train_x.columns)]\n",
    "selected_features = [v for i, v in feature_map if i==True]\n",
    "\n",
    "selected_features"
   ]
  },
  {
   "cell_type": "markdown",
   "metadata": {
    "_cell_guid": "b7366e08-526f-4b0e-ab2b-f3cec087d1cb",
    "_uuid": "8314fa86-8c13-4621-ad7c-7effaf0c9337"
   },
   "source": [
    "# DATASET PARTITION"
   ]
  },
  {
   "cell_type": "code",
   "execution_count": null,
   "metadata": {
    "_cell_guid": "90a3a0d4-2b52-44fd-b268-314d459de590",
    "_uuid": "42e5e3a7-a034-4c60-80ad-e4be2169bed7",
    "collapsed": false,
    "execution": {
     "iopub.execute_input": "2023-09-05T06:53:25.884520Z",
     "iopub.status.busy": "2023-09-05T06:53:25.884297Z",
     "iopub.status.idle": "2023-09-05T06:53:25.897197Z",
     "shell.execute_reply": "2023-09-05T06:53:25.896595Z",
     "shell.execute_reply.started": "2023-09-05T06:53:25.884476Z"
    },
    "jupyter": {
     "outputs_hidden": false
    }
   },
   "outputs": [],
   "source": [
    "from sklearn.model_selection import train_test_split\n",
    "\n",
    "X_train,X_test,Y_train,Y_test = train_test_split(train_x,train_y,train_size=0.70, random_state=2)"
   ]
  },
  {
   "cell_type": "markdown",
   "metadata": {
    "_cell_guid": "34c97d91-19d1-4a85-9a1f-b0a4ea985576",
    "_uuid": "81879dff-34a0-4fd7-a3ab-89f58fbf6fe9"
   },
   "source": [
    "# FITTING MODELS"
   ]
  },
  {
   "cell_type": "code",
   "execution_count": null,
   "metadata": {
    "_cell_guid": "6a419ccb-4a41-4eb0-a957-2a4602d7acb6",
    "_uuid": "972903c9-9285-4209-907a-8c887282d198",
    "collapsed": false,
    "execution": {
     "iopub.execute_input": "2023-09-05T07:22:55.116781Z",
     "iopub.status.busy": "2023-09-05T07:22:55.116479Z",
     "iopub.status.idle": "2023-09-05T07:22:56.525671Z",
     "shell.execute_reply": "2023-09-05T07:22:56.524295Z",
     "shell.execute_reply.started": "2023-09-05T07:22:55.116728Z"
    },
    "jupyter": {
     "outputs_hidden": false
    }
   },
   "outputs": [],
   "source": [
    "from sklearn.svm import SVC \n",
    "from sklearn.naive_bayes import BernoulliNB \n",
    "from sklearn import tree\n",
    "from sklearn.model_selection import cross_val_score\n",
    "from sklearn.neighbors import KNeighborsClassifier\n",
    "from sklearn.linear_model import LogisticRegression\n",
    "import time\n",
    "\n",
    "# Train KNeighborsClassifier Model\n",
    "start_timer = time.time()\n",
    "KNN_Classifier = KNeighborsClassifier(n_jobs=-1)\n",
    "KNN_Classifier.fit(X_train, Y_train); \n",
    "end_timer = time.time()\n",
    "KNN_runtime = end_timer - start_timer\n",
    "\n",
    "# Train LogisticRegression Model\n",
    "LGR_Classifier = LogisticRegression(n_jobs=-1, random_state=0)\n",
    "LGR_Classifier.fit(X_train, Y_train);\n",
    "\n",
    "# Train Gaussian Naive Baye Model\n",
    "BNB_Classifier = BernoulliNB()\n",
    "BNB_Classifier.fit(X_train, Y_train)\n",
    "            \n",
    "# Train Decision Tree Model\n",
    "DTC_Classifier = tree.DecisionTreeClassifier(criterion='entropy', random_state=0)\n",
    "DTC_Classifier.fit(X_train, Y_train)"
   ]
  },
  {
   "cell_type": "markdown",
   "metadata": {
    "_cell_guid": "314bef7b-aa68-414b-bf2c-1e77e1526084",
    "_uuid": "3c691428-dd11-4ab7-8223-eb293a02dcf1"
   },
   "source": [
    "# EVALUATE MODELS"
   ]
  },
  {
   "cell_type": "code",
   "execution_count": null,
   "metadata": {
    "_cell_guid": "e6437041-1b12-4571-99ff-25e256165b3a",
    "_uuid": "bf21179b-77be-44da-8a7c-7ba74a4235e7",
    "collapsed": false,
    "execution": {
     "iopub.execute_input": "2023-09-05T07:23:19.921593Z",
     "iopub.status.busy": "2023-09-05T07:23:19.921306Z",
     "iopub.status.idle": "2023-09-05T07:23:45.980176Z",
     "shell.execute_reply": "2023-09-05T07:23:45.979473Z",
     "shell.execute_reply.started": "2023-09-05T07:23:19.921542Z"
    },
    "jupyter": {
     "outputs_hidden": false
    }
   },
   "outputs": [],
   "source": [
    "from sklearn import metrics\n",
    "\n",
    "models = []\n",
    "models.append(('Naive Baye Classifier', BNB_Classifier))\n",
    "models.append(('Decision Tree Classifier', DTC_Classifier))\n",
    "models.append(('KNeighborsClassifier', KNN_Classifier))\n",
    "models.append(('LogisticRegression', LGR_Classifier))\n",
    "\n",
    "for i, v in models:\n",
    "    scores = cross_val_score(v, X_train, Y_train, cv=10)\n",
    "    accuracy = metrics.accuracy_score(Y_train, v.predict(X_train))\n",
    "    confusion_matrix = metrics.confusion_matrix(Y_train, v.predict(X_train))\n",
    "    classification = metrics.classification_report(Y_train, v.predict(X_train))\n",
    "    print()\n",
    "    print('============================== {} Model Evaluation =============================='.format(i))\n",
    "    print()\n",
    "    print (\"Cross Validation Mean Score:\" \"\\n\", scores.mean())\n",
    "    print()\n",
    "    print (\"Model Accuracy:\" \"\\n\", accuracy)\n",
    "    print()\n",
    "    print(\"Confusion matrix:\" \"\\n\", confusion_matrix)\n",
    "    print()\n",
    "    print(\"Classification report:\" \"\\n\", classification) \n",
    "    print(\"Classification Runtime:\" \"\\n\", KNN_runtime)\n",
    "    print()"
   ]
  },
  {
   "cell_type": "markdown",
   "metadata": {
    "_cell_guid": "c68fe8bc-1256-4809-b5e9-651b46a20421",
    "_uuid": "45826ac6-ca3e-4564-9533-d21f5f8b9e00"
   },
   "source": [
    "# VALIDATING MODELS"
   ]
  },
  {
   "cell_type": "code",
   "execution_count": null,
   "metadata": {
    "_cell_guid": "cb58cba0-8212-4063-824d-ab0c7d02cfa9",
    "_uuid": "787096e2-92d6-40d7-bef1-9ed4188c29f4",
    "collapsed": false,
    "execution": {
     "iopub.execute_input": "2023-09-05T06:53:55.062495Z",
     "iopub.status.busy": "2023-09-05T06:53:55.062176Z",
     "iopub.status.idle": "2023-09-05T06:54:00.732474Z",
     "shell.execute_reply": "2023-09-05T06:54:00.730989Z",
     "shell.execute_reply.started": "2023-09-05T06:53:55.062457Z"
    },
    "jupyter": {
     "outputs_hidden": false
    }
   },
   "outputs": [],
   "source": [
    "for i, v in models:\n",
    "    accuracy = metrics.accuracy_score(Y_test, v.predict(X_test))\n",
    "    confusion_matrix = metrics.confusion_matrix(Y_test, v.predict(X_test))\n",
    "    classification = metrics.classification_report(Y_test, v.predict(X_test))\n",
    "    \n",
    "    print()\n",
    "    print('============================== {} Model Test Results =============================='.format(i))\n",
    "    print()\n",
    "    print (\"Model Accuracy:\" \"\\n\", accuracy)\n",
    "    print()\n",
    "    print(\"Confusion matrix:\" \"\\n\", confusion_matrix)\n",
    "    print()\n",
    "    print(\"Classification report:\" \"\\n\", classification) \n",
    "    print()"
   ]
  },
  {
   "cell_type": "code",
   "execution_count": null,
   "metadata": {},
   "outputs": [],
   "source": []
  },
  {
   "cell_type": "code",
   "execution_count": null,
   "metadata": {
    "_cell_guid": "8dcb25a2-0788-41e1-9cb6-e65a674114a7",
    "_uuid": "b0b63990-6fcb-4417-9bab-ef6ab75e2e7b",
    "collapsed": false,
    "execution": {
     "iopub.execute_input": "2023-09-05T06:54:00.733852Z",
     "iopub.status.busy": "2023-09-05T06:54:00.733592Z",
     "iopub.status.idle": "2023-09-05T06:54:06.077764Z",
     "shell.execute_reply": "2023-09-05T06:54:06.076743Z",
     "shell.execute_reply.started": "2023-09-05T06:54:00.733798Z"
    },
    "jupyter": {
     "outputs_hidden": false
    }
   },
   "outputs": [],
   "source": [
    "# PREDICTING FOR TEST DATA using KNN\n",
    "pred_knn = KNN_Classifier.predict(test_df)\n",
    "pred_NB = BNB_Classifier.predict(test_df)\n",
    "pred_log = LGR_Classifier.predict(test_df)\n",
    "pred_dt = DTC_Classifier.predict(test_df)"
   ]
  },
  {
   "cell_type": "code",
   "execution_count": null,
   "metadata": {
    "_cell_guid": "0f8166cc-5742-4010-ad51-4c225e82ec74",
    "_uuid": "f68e4a36-afcd-48de-afe0-294b49d964a9",
    "collapsed": false,
    "jupyter": {
     "outputs_hidden": false
    }
   },
   "outputs": [],
   "source": []
  },
  {
   "cell_type": "code",
   "execution_count": null,
   "metadata": {
    "_cell_guid": "918c597c-6d6f-4eaa-93cf-9f5749041e05",
    "_uuid": "b27b0a69-5932-4733-86c2-938629865eea",
    "collapsed": false,
    "jupyter": {
     "outputs_hidden": false
    }
   },
   "outputs": [],
   "source": []
  }
 ],
 "metadata": {
  "kernelspec": {
   "display_name": "Python 3",
   "language": "python",
   "name": "python3"
  },
  "language_info": {
   "codemirror_mode": {
    "name": "ipython",
    "version": 3
   },
   "file_extension": ".py",
   "mimetype": "text/x-python",
   "name": "python",
   "nbconvert_exporter": "python",
   "pygments_lexer": "ipython3",
   "version": "3.11.4"
  }
 },
 "nbformat": 4,
 "nbformat_minor": 4
}
